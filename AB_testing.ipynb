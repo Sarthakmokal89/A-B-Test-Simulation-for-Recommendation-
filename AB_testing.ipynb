{
  "nbformat": 4,
  "nbformat_minor": 0,
  "metadata": {
    "colab": {
      "provenance": []
    },
    "kernelspec": {
      "name": "python3",
      "display_name": "Python 3"
    },
    "language_info": {
      "name": "python"
    }
  },
  "cells": [
    {
      "cell_type": "markdown",
      "source": [
        "# A/B Test Demo\n",
        "\n",
        " Simulate a controlled A/B experiment for a recommendation change and analyze whether the treatment moves the conversion metric.\n",
        "\n",
        "\n"
      ],
      "metadata": {
        "id": "aYjT-TcsONcF"
      }
    },
    {
      "cell_type": "code",
      "source": [
        "\n",
        "!pip install statsmodels -q\n"
      ],
      "metadata": {
        "id": "pxYKU6ogOZe9"
      },
      "execution_count": 1,
      "outputs": []
    },
    {
      "cell_type": "markdown",
      "source": [
        "## 1) Libraries\n",
        "\n"
      ],
      "metadata": {
        "id": "oKMKmqB4Od62"
      }
    },
    {
      "cell_type": "code",
      "source": [
        "# imports\n",
        "import numpy as np\n",
        "import pandas as pd\n",
        "from statsmodels.stats.proportion import proportions_ztest, proportion_confint\n",
        "import matplotlib.pyplot as plt\n",
        "from datetime import datetime\n"
      ],
      "metadata": {
        "id": "ew-RkP5dOfsF"
      },
      "execution_count": 2,
      "outputs": []
    },
    {
      "cell_type": "markdown",
      "source": [
        "## 2) Simulation settings\n",
        "\n"
      ],
      "metadata": {
        "id": "2IBFOpEUOlBE"
      }
    },
    {
      "cell_type": "code",
      "source": [
        "# reproducibility and experiment parameters\n",
        "SEED = 97\n",
        "np.random.seed(SEED)\n",
        "\n",
        "# true conversion probabilities used to simulate data\n",
        "p_control = 0.12    # control group true conversion\n",
        "p_variant = 0.16    # treatment group true conversion\n",
        "\n",
        "# traffic allocated to each arm\n",
        "visitors_control = 5000\n",
        "visitors_variant = 4800\n",
        "\n",
        "# test significance threshold\n",
        "alpha = 0.05\n",
        "\n",
        "print(\"Simulation settings:\", f\"seed={SEED}, p_control={p_control}, p_variant={p_variant}\")\n"
      ],
      "metadata": {
        "colab": {
          "base_uri": "https://localhost:8080/"
        },
        "id": "rfogwyMeOmNn",
        "outputId": "21f6cfc2-36c9-4b08-ddce-89bbee5134e0"
      },
      "execution_count": 3,
      "outputs": [
        {
          "output_type": "stream",
          "name": "stdout",
          "text": [
            "Simulation settings: seed=97, p_control=0.12, p_variant=0.16\n"
          ]
        }
      ]
    },
    {
      "cell_type": "markdown",
      "source": [
        "## 3) Simulate user-level outcomes\n",
        "(creates DataFrame `df_ab` with 'arm' and 'converted' columns)\n"
      ],
      "metadata": {
        "id": "unWYxesYOv3e"
      }
    },
    {
      "cell_type": "code",
      "source": [
        "# simulate Bernoulli outcomes using random uniform draw (different style)\n",
        "control_outcomes = (np.random.rand(visitors_control) < p_control).astype(int)\n",
        "variant_outcomes = (np.random.rand(visitors_variant) < p_variant).astype(int)\n",
        "\n",
        "df_control = pd.DataFrame({\"arm\": \"control\", \"converted\": control_outcomes})\n",
        "df_variant = pd.DataFrame({\"arm\": \"variant\", \"converted\": variant_outcomes})\n",
        "\n",
        "# combine into a tidy dataframe\n",
        "df_ab = pd.concat([df_control, df_variant], ignore_index=True)\n",
        "df_ab.head()\n"
      ],
      "metadata": {
        "colab": {
          "base_uri": "https://localhost:8080/",
          "height": 206
        },
        "id": "1K8cUYpkOxge",
        "outputId": "748a59b4-34a1-4132-a1d9-153bacf079f7"
      },
      "execution_count": 4,
      "outputs": [
        {
          "output_type": "execute_result",
          "data": {
            "text/plain": [
              "       arm  converted\n",
              "0  control          0\n",
              "1  control          0\n",
              "2  control          0\n",
              "3  control          0\n",
              "4  control          0"
            ],
            "text/html": [
              "\n",
              "  <div id=\"df-222de8bd-4fb0-4722-8d0b-a4ea12656a31\" class=\"colab-df-container\">\n",
              "    <div>\n",
              "<style scoped>\n",
              "    .dataframe tbody tr th:only-of-type {\n",
              "        vertical-align: middle;\n",
              "    }\n",
              "\n",
              "    .dataframe tbody tr th {\n",
              "        vertical-align: top;\n",
              "    }\n",
              "\n",
              "    .dataframe thead th {\n",
              "        text-align: right;\n",
              "    }\n",
              "</style>\n",
              "<table border=\"1\" class=\"dataframe\">\n",
              "  <thead>\n",
              "    <tr style=\"text-align: right;\">\n",
              "      <th></th>\n",
              "      <th>arm</th>\n",
              "      <th>converted</th>\n",
              "    </tr>\n",
              "  </thead>\n",
              "  <tbody>\n",
              "    <tr>\n",
              "      <th>0</th>\n",
              "      <td>control</td>\n",
              "      <td>0</td>\n",
              "    </tr>\n",
              "    <tr>\n",
              "      <th>1</th>\n",
              "      <td>control</td>\n",
              "      <td>0</td>\n",
              "    </tr>\n",
              "    <tr>\n",
              "      <th>2</th>\n",
              "      <td>control</td>\n",
              "      <td>0</td>\n",
              "    </tr>\n",
              "    <tr>\n",
              "      <th>3</th>\n",
              "      <td>control</td>\n",
              "      <td>0</td>\n",
              "    </tr>\n",
              "    <tr>\n",
              "      <th>4</th>\n",
              "      <td>control</td>\n",
              "      <td>0</td>\n",
              "    </tr>\n",
              "  </tbody>\n",
              "</table>\n",
              "</div>\n",
              "    <div class=\"colab-df-buttons\">\n",
              "\n",
              "  <div class=\"colab-df-container\">\n",
              "    <button class=\"colab-df-convert\" onclick=\"convertToInteractive('df-222de8bd-4fb0-4722-8d0b-a4ea12656a31')\"\n",
              "            title=\"Convert this dataframe to an interactive table.\"\n",
              "            style=\"display:none;\">\n",
              "\n",
              "  <svg xmlns=\"http://www.w3.org/2000/svg\" height=\"24px\" viewBox=\"0 -960 960 960\">\n",
              "    <path d=\"M120-120v-720h720v720H120Zm60-500h600v-160H180v160Zm220 220h160v-160H400v160Zm0 220h160v-160H400v160ZM180-400h160v-160H180v160Zm440 0h160v-160H620v160ZM180-180h160v-160H180v160Zm440 0h160v-160H620v160Z\"/>\n",
              "  </svg>\n",
              "    </button>\n",
              "\n",
              "  <style>\n",
              "    .colab-df-container {\n",
              "      display:flex;\n",
              "      gap: 12px;\n",
              "    }\n",
              "\n",
              "    .colab-df-convert {\n",
              "      background-color: #E8F0FE;\n",
              "      border: none;\n",
              "      border-radius: 50%;\n",
              "      cursor: pointer;\n",
              "      display: none;\n",
              "      fill: #1967D2;\n",
              "      height: 32px;\n",
              "      padding: 0 0 0 0;\n",
              "      width: 32px;\n",
              "    }\n",
              "\n",
              "    .colab-df-convert:hover {\n",
              "      background-color: #E2EBFA;\n",
              "      box-shadow: 0px 1px 2px rgba(60, 64, 67, 0.3), 0px 1px 3px 1px rgba(60, 64, 67, 0.15);\n",
              "      fill: #174EA6;\n",
              "    }\n",
              "\n",
              "    .colab-df-buttons div {\n",
              "      margin-bottom: 4px;\n",
              "    }\n",
              "\n",
              "    [theme=dark] .colab-df-convert {\n",
              "      background-color: #3B4455;\n",
              "      fill: #D2E3FC;\n",
              "    }\n",
              "\n",
              "    [theme=dark] .colab-df-convert:hover {\n",
              "      background-color: #434B5C;\n",
              "      box-shadow: 0px 1px 3px 1px rgba(0, 0, 0, 0.15);\n",
              "      filter: drop-shadow(0px 1px 2px rgba(0, 0, 0, 0.3));\n",
              "      fill: #FFFFFF;\n",
              "    }\n",
              "  </style>\n",
              "\n",
              "    <script>\n",
              "      const buttonEl =\n",
              "        document.querySelector('#df-222de8bd-4fb0-4722-8d0b-a4ea12656a31 button.colab-df-convert');\n",
              "      buttonEl.style.display =\n",
              "        google.colab.kernel.accessAllowed ? 'block' : 'none';\n",
              "\n",
              "      async function convertToInteractive(key) {\n",
              "        const element = document.querySelector('#df-222de8bd-4fb0-4722-8d0b-a4ea12656a31');\n",
              "        const dataTable =\n",
              "          await google.colab.kernel.invokeFunction('convertToInteractive',\n",
              "                                                    [key], {});\n",
              "        if (!dataTable) return;\n",
              "\n",
              "        const docLinkHtml = 'Like what you see? Visit the ' +\n",
              "          '<a target=\"_blank\" href=https://colab.research.google.com/notebooks/data_table.ipynb>data table notebook</a>'\n",
              "          + ' to learn more about interactive tables.';\n",
              "        element.innerHTML = '';\n",
              "        dataTable['output_type'] = 'display_data';\n",
              "        await google.colab.output.renderOutput(dataTable, element);\n",
              "        const docLink = document.createElement('div');\n",
              "        docLink.innerHTML = docLinkHtml;\n",
              "        element.appendChild(docLink);\n",
              "      }\n",
              "    </script>\n",
              "  </div>\n",
              "\n",
              "\n",
              "    <div id=\"df-da559064-8848-4285-b5ea-cce149dea29b\">\n",
              "      <button class=\"colab-df-quickchart\" onclick=\"quickchart('df-da559064-8848-4285-b5ea-cce149dea29b')\"\n",
              "                title=\"Suggest charts\"\n",
              "                style=\"display:none;\">\n",
              "\n",
              "<svg xmlns=\"http://www.w3.org/2000/svg\" height=\"24px\"viewBox=\"0 0 24 24\"\n",
              "     width=\"24px\">\n",
              "    <g>\n",
              "        <path d=\"M19 3H5c-1.1 0-2 .9-2 2v14c0 1.1.9 2 2 2h14c1.1 0 2-.9 2-2V5c0-1.1-.9-2-2-2zM9 17H7v-7h2v7zm4 0h-2V7h2v10zm4 0h-2v-4h2v4z\"/>\n",
              "    </g>\n",
              "</svg>\n",
              "      </button>\n",
              "\n",
              "<style>\n",
              "  .colab-df-quickchart {\n",
              "      --bg-color: #E8F0FE;\n",
              "      --fill-color: #1967D2;\n",
              "      --hover-bg-color: #E2EBFA;\n",
              "      --hover-fill-color: #174EA6;\n",
              "      --disabled-fill-color: #AAA;\n",
              "      --disabled-bg-color: #DDD;\n",
              "  }\n",
              "\n",
              "  [theme=dark] .colab-df-quickchart {\n",
              "      --bg-color: #3B4455;\n",
              "      --fill-color: #D2E3FC;\n",
              "      --hover-bg-color: #434B5C;\n",
              "      --hover-fill-color: #FFFFFF;\n",
              "      --disabled-bg-color: #3B4455;\n",
              "      --disabled-fill-color: #666;\n",
              "  }\n",
              "\n",
              "  .colab-df-quickchart {\n",
              "    background-color: var(--bg-color);\n",
              "    border: none;\n",
              "    border-radius: 50%;\n",
              "    cursor: pointer;\n",
              "    display: none;\n",
              "    fill: var(--fill-color);\n",
              "    height: 32px;\n",
              "    padding: 0;\n",
              "    width: 32px;\n",
              "  }\n",
              "\n",
              "  .colab-df-quickchart:hover {\n",
              "    background-color: var(--hover-bg-color);\n",
              "    box-shadow: 0 1px 2px rgba(60, 64, 67, 0.3), 0 1px 3px 1px rgba(60, 64, 67, 0.15);\n",
              "    fill: var(--button-hover-fill-color);\n",
              "  }\n",
              "\n",
              "  .colab-df-quickchart-complete:disabled,\n",
              "  .colab-df-quickchart-complete:disabled:hover {\n",
              "    background-color: var(--disabled-bg-color);\n",
              "    fill: var(--disabled-fill-color);\n",
              "    box-shadow: none;\n",
              "  }\n",
              "\n",
              "  .colab-df-spinner {\n",
              "    border: 2px solid var(--fill-color);\n",
              "    border-color: transparent;\n",
              "    border-bottom-color: var(--fill-color);\n",
              "    animation:\n",
              "      spin 1s steps(1) infinite;\n",
              "  }\n",
              "\n",
              "  @keyframes spin {\n",
              "    0% {\n",
              "      border-color: transparent;\n",
              "      border-bottom-color: var(--fill-color);\n",
              "      border-left-color: var(--fill-color);\n",
              "    }\n",
              "    20% {\n",
              "      border-color: transparent;\n",
              "      border-left-color: var(--fill-color);\n",
              "      border-top-color: var(--fill-color);\n",
              "    }\n",
              "    30% {\n",
              "      border-color: transparent;\n",
              "      border-left-color: var(--fill-color);\n",
              "      border-top-color: var(--fill-color);\n",
              "      border-right-color: var(--fill-color);\n",
              "    }\n",
              "    40% {\n",
              "      border-color: transparent;\n",
              "      border-right-color: var(--fill-color);\n",
              "      border-top-color: var(--fill-color);\n",
              "    }\n",
              "    60% {\n",
              "      border-color: transparent;\n",
              "      border-right-color: var(--fill-color);\n",
              "    }\n",
              "    80% {\n",
              "      border-color: transparent;\n",
              "      border-right-color: var(--fill-color);\n",
              "      border-bottom-color: var(--fill-color);\n",
              "    }\n",
              "    90% {\n",
              "      border-color: transparent;\n",
              "      border-bottom-color: var(--fill-color);\n",
              "    }\n",
              "  }\n",
              "</style>\n",
              "\n",
              "      <script>\n",
              "        async function quickchart(key) {\n",
              "          const quickchartButtonEl =\n",
              "            document.querySelector('#' + key + ' button');\n",
              "          quickchartButtonEl.disabled = true;  // To prevent multiple clicks.\n",
              "          quickchartButtonEl.classList.add('colab-df-spinner');\n",
              "          try {\n",
              "            const charts = await google.colab.kernel.invokeFunction(\n",
              "                'suggestCharts', [key], {});\n",
              "          } catch (error) {\n",
              "            console.error('Error during call to suggestCharts:', error);\n",
              "          }\n",
              "          quickchartButtonEl.classList.remove('colab-df-spinner');\n",
              "          quickchartButtonEl.classList.add('colab-df-quickchart-complete');\n",
              "        }\n",
              "        (() => {\n",
              "          let quickchartButtonEl =\n",
              "            document.querySelector('#df-da559064-8848-4285-b5ea-cce149dea29b button');\n",
              "          quickchartButtonEl.style.display =\n",
              "            google.colab.kernel.accessAllowed ? 'block' : 'none';\n",
              "        })();\n",
              "      </script>\n",
              "    </div>\n",
              "\n",
              "    </div>\n",
              "  </div>\n"
            ],
            "application/vnd.google.colaboratory.intrinsic+json": {
              "type": "dataframe",
              "variable_name": "df_ab",
              "summary": "{\n  \"name\": \"df_ab\",\n  \"rows\": 9800,\n  \"fields\": [\n    {\n      \"column\": \"arm\",\n      \"properties\": {\n        \"dtype\": \"category\",\n        \"num_unique_values\": 2,\n        \"samples\": [\n          \"variant\",\n          \"control\"\n        ],\n        \"semantic_type\": \"\",\n        \"description\": \"\"\n      }\n    },\n    {\n      \"column\": \"converted\",\n      \"properties\": {\n        \"dtype\": \"number\",\n        \"std\": 0,\n        \"min\": 0,\n        \"max\": 1,\n        \"num_unique_values\": 2,\n        \"samples\": [\n          1,\n          0\n        ],\n        \"semantic_type\": \"\",\n        \"description\": \"\"\n      }\n    }\n  ]\n}"
            }
          },
          "metadata": {},
          "execution_count": 4
        }
      ]
    },
    {
      "cell_type": "markdown",
      "source": [
        "## 4) Aggregate statistics\n",
        "- Counts, conversion rates, lifts, standard errors (approx).\n"
      ],
      "metadata": {
        "id": "TmhX794kO0Bm"
      }
    },
    {
      "cell_type": "code",
      "source": [
        "# aggregate\n",
        "n_ctrl = df_control.shape[0]\n",
        "n_var = df_variant.shape[0]\n",
        "x_ctrl = int(df_control[\"converted\"].sum())\n",
        "x_var = int(df_variant[\"converted\"].sum())\n",
        "\n",
        "rate_ctrl = x_ctrl / n_ctrl\n",
        "rate_var = x_var / n_var\n",
        "\n",
        "abs_lift = rate_var - rate_ctrl\n",
        "rel_lift = (abs_lift / rate_ctrl) * 100 if rate_ctrl > 0 else float(\"nan\")\n",
        "\n",
        "# approximate (Wald) standard errors per arm for quick reference\n",
        "se_ctrl = (rate_ctrl * (1 - rate_ctrl) / n_ctrl) ** 0.5\n",
        "se_var = (rate_var * (1 - rate_var) / n_var) ** 0.5\n"
      ],
      "metadata": {
        "id": "WkQH1tyKO1JW"
      },
      "execution_count": 5,
      "outputs": []
    },
    {
      "cell_type": "markdown",
      "source": [
        "## 5) Statistical test (two-sample proportions z-test)\n",
        "- Using statsmodels' `proportions_ztest`.\n"
      ],
      "metadata": {
        "id": "i8Mg1LPVO261"
      }
    },
    {
      "cell_type": "code",
      "source": [
        "# z-test (counts and sample sizes)\n",
        "counts = np.array([x_var, x_ctrl])   # order: variant, control (common arrangement)\n",
        "nobs = np.array([n_var, n_ctrl])\n",
        "\n",
        "z_stat, p_val_two_sided = proportions_ztest(count=counts, nobs=nobs, alternative='two-sided')\n",
        "\n",
        "# Wilson confidence intervals for each arm (more reliable than Wald for many cases)\n",
        "ci_var_low, ci_var_high = proportion_confint(count=x_var, nobs=n_var, alpha=alpha, method='wilson')\n",
        "ci_ctrl_low, ci_ctrl_high = proportion_confint(count=x_ctrl, nobs=n_ctrl, alpha=alpha, method='wilson')\n",
        "\n",
        "# pack results\n",
        "results = {\n",
        "    \"n_control\": n_ctrl,\n",
        "    \"n_variant\": n_var,\n",
        "    \"conv_control\": x_ctrl,\n",
        "    \"conv_variant\": x_var,\n",
        "    \"rate_control\": rate_ctrl,\n",
        "    \"rate_variant\": rate_var,\n",
        "    \"abs_lift\": abs_lift,\n",
        "    \"rel_lift_pct\": rel_lift,\n",
        "    \"se_control\": se_ctrl,\n",
        "    \"se_variant\": se_var,\n",
        "    \"z_stat\": z_stat,\n",
        "    \"p_value\": p_val_two_sided,\n",
        "    \"ci_control\": (ci_ctrl_low, ci_ctrl_high),\n",
        "    \"ci_variant\": (ci_var_low, ci_var_high),\n",
        "}\n"
      ],
      "metadata": {
        "id": "YvtTc2rAO4uV"
      },
      "execution_count": 6,
      "outputs": []
    },
    {
      "cell_type": "markdown",
      "source": [
        "## 6) Results (print)\n"
      ],
      "metadata": {
        "id": "9ZOuH0n1PA0t"
      }
    },
    {
      "cell_type": "code",
      "source": [
        "# pretty print summary\n",
        "print(\"A/B Test\")\n",
        "print(\"-\" * 36)\n",
        "print(f\"Run at: {datetime.utcnow().isoformat()} UTC\")\n",
        "print()\n",
        "print(f\"Control:    n={results['n_control']:,}, conv={results['conv_control']:,}, rate={results['rate_control']:.4%}\")\n",
        "print(f\"Variant:    n={results['n_variant']:,}, conv={results['conv_variant']:,}, rate={results['rate_variant']:.4%}\")\n",
        "print()\n",
        "print(f\"Absolute lift (variant - control): {results['abs_lift']:.4%}\")\n",
        "print(f\"Relative lift vs control: {results['rel_lift_pct']:.2f}%\")\n",
        "print()\n",
        "print(f\"z-statistic: {results['z_stat']:.4f}\")\n",
        "print(f\"two-sided p-value: {results['p_value']:.5f}\")\n",
        "print()\n",
        "print(\"95% Wilson CIs:\")\n",
        "print(f\"  Control CI: [{results['ci_control'][0]:.4%}, {results['ci_control'][1]:.4%}]\")\n",
        "print(f\"  Variant CI: [{results['ci_variant'][0]:.4%}, {results['ci_variant'][1]:.4%}]\")\n",
        "print()\n",
        "\n",
        "if results['p_value'] < alpha:\n",
        "    print(f\"Conclusion: Statistically significant difference at alpha={alpha} (reject H0).\")\n",
        "else:\n",
        "    print(f\"Conclusion: No statistically significant difference at alpha={alpha} (fail to reject H0).\")\n"
      ],
      "metadata": {
        "colab": {
          "base_uri": "https://localhost:8080/"
        },
        "id": "c2obN6SEPBQ9",
        "outputId": "626d02a5-d1b8-40c3-d3d6-f4022426e258"
      },
      "execution_count": 8,
      "outputs": [
        {
          "output_type": "stream",
          "name": "stdout",
          "text": [
            "A/B Test\n",
            "------------------------------------\n",
            "Run at: 2025-10-14T15:00:04.481321 UTC\n",
            "\n",
            "Control:    n=5,000, conv=582, rate=11.6400%\n",
            "Variant:    n=4,800, conv=769, rate=16.0208%\n",
            "\n",
            "Absolute lift (variant - control): 4.3808%\n",
            "Relative lift vs control: 37.64%\n",
            "\n",
            "z-statistic: 6.2885\n",
            "two-sided p-value: 0.00000\n",
            "\n",
            "95% Wilson CIs:\n",
            "  Control CI: [10.7804%, 12.5585%]\n",
            "  Variant CI: [15.0104%, 17.0856%]\n",
            "\n",
            "Conclusion: Statistically significant difference at alpha=0.05 (reject H0).\n"
          ]
        },
        {
          "output_type": "stream",
          "name": "stderr",
          "text": [
            "/tmp/ipython-input-3927068725.py:4: DeprecationWarning: datetime.datetime.utcnow() is deprecated and scheduled for removal in a future version. Use timezone-aware objects to represent datetimes in UTC: datetime.datetime.now(datetime.UTC).\n",
            "  print(f\"Run at: {datetime.utcnow().isoformat()} UTC\")\n"
          ]
        }
      ]
    },
    {
      "cell_type": "markdown",
      "source": [
        "## 7) Visualization (horizontal bar + CI)\n"
      ],
      "metadata": {
        "id": "ex0w-g4yPGyt"
      }
    },
    {
      "cell_type": "code",
      "source": [
        "# compute half-widths for plotting from Wilson CIs\n",
        "hw_ctrl = (results['ci_control'][1] - results['ci_control'][0]) / 2\n",
        "hw_var  = (results['ci_variant'][1] - results['ci_variant'][0]) / 2\n",
        "\n",
        "arms = [\"control\", \"variant\"]\n",
        "rates = [results['rate_control'], results['rate_variant']]\n",
        "errors = [hw_ctrl, hw_var]\n",
        "\n",
        "fig, ax = plt.subplots(figsize=(8,4))\n",
        "y_pos = np.arange(len(arms))\n",
        "ax.barh(y_pos, rates, xerr=errors, align='center', capsize=8)\n",
        "ax.set_yticks(y_pos)\n",
        "ax.set_yticklabels(arms)\n",
        "ax.set_xlabel(\"Conversion rate\")\n",
        "ax.set_title(\"Conversion Rate by Arm (with 95% Wilson CI) \")\n",
        "for i, r in enumerate(rates):\n",
        "    ax.text(r + 0.001, i, f\"{r:.3%}\", va='center')\n",
        "plt.xlim(0, max(rates) + 0.05)\n",
        "plt.tight_layout()\n",
        "plt.show()\n"
      ],
      "metadata": {
        "colab": {
          "base_uri": "https://localhost:8080/",
          "height": 407
        },
        "id": "upgqL2qqPHV9",
        "outputId": "1418c9cd-477a-49c9-aab1-6e54d88eb518"
      },
      "execution_count": 10,
      "outputs": [
        {
          "output_type": "display_data",
          "data": {
            "text/plain": [
              "<Figure size 800x400 with 1 Axes>"
            ],
            "image/png": "[encoded data removed]"
          },
          "metadata": {}
        }
      ]
    }
  ]
}