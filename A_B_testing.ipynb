{
  "nbformat": 4,
  "nbformat_minor": 0,
  "metadata": {
    "colab": {
      "provenance": []
    },
    "kernelspec": {
      "name": "python3",
      "display_name": "Python 3"
    },
    "language_info": {
      "name": "python"
    }
  },
  "cells": [
    {
      "cell_type": "markdown",
      "source": [
        "# A/B Test — Simulation & Two-Proportion Test\n",
        "\n",
        "**Purpose:** Run a simulated A/B experiment for a recommendation change (Control vs Trial), compute conversion statistics, run a two-proportion z-test, show confidence intervals and a small visualization.\n"
      ],
      "metadata": {
        "id": "RU0-UOerKj5s"
      }
    },
    {
      "cell_type": "markdown",
      "source": [
        "## 1) Import libraries\n"
      ],
      "metadata": {
        "id": "h-pmXpAKLHKo"
      }
    },
    {
      "cell_type": "code",
      "source": [
        "# for importing libraries\n",
        "import numpy as np\n",
        "import pandas as pd\n",
        "from math import sqrt\n",
        "from scipy.stats import norm\n",
        "import matplotlib.pyplot as plt\n"
      ],
      "metadata": {
        "id": "nYlsoWWXLHot"
      },
      "execution_count": 1,
      "outputs": []
    },
    {
      "cell_type": "markdown",
      "source": [
        "## 2) Experiment configuration\n",
        "- Set RNG seed, true probabilities for each arm, and sample sizes.\n"
      ],
      "metadata": {
        "id": "udkmLr0FLJ60"
      }
    },
    {
      "cell_type": "code",
      "source": [
        "# Experiment configuration\n",
        "RNG = 2025_10_14\n",
        "np.random.seed(RNG)\n",
        "\n",
        "# underlying true conversion probabilities (changeable)\n",
        "p_A = 0.130   # control (A)\n",
        "p_B = 0.165   # treatment (B)\n",
        "\n",
        "# sample sizes\n",
        "N_A = 4300\n",
        "N_B = 4100\n",
        "\n",
        "# confidence settings\n",
        "alpha = 0.05\n",
        "z_crit = norm.ppf(1 - alpha / 2)\n"
      ],
      "metadata": {
        "id": "F46IcaL6LMO9"
      },
      "execution_count": 2,
      "outputs": []
    },
    {
      "cell_type": "markdown",
      "source": [
        "## 3) Generate user-level simulated data\n",
        "- We simulate 0/1 outcomes per visitor (Bernoulli trials).\n"
      ],
      "metadata": {
        "id": "M1o-0LkoLVB1"
      }
    },
    {
      "cell_type": "code",
      "source": [
        "conv_A = np.random.binomial(1, p_A, size=N_A)\n",
        "conv_B = np.random.binomial(1, p_B, size=N_B)\n",
        "\n",
        "df_A = pd.DataFrame({\"group\": \"A_control\", \"converted\": conv_A})\n",
        "df_B = pd.DataFrame({\"group\": \"B_treatment\", \"converted\": conv_B})\n",
        "\n",
        "df_exp = pd.concat([df_A, df_B], ignore_index=True)\n",
        "df_exp.head()\n"
      ],
      "metadata": {
        "colab": {
          "base_uri": "https://localhost:8080/",
          "height": 206
        },
        "id": "_02qFxuDLVgV",
        "outputId": "a4c63a9a-fb2f-4987-ed15-2967bd389746"
      },
      "execution_count": 3,
      "outputs": [
        {
          "output_type": "execute_result",
          "data": {
            "text/plain": [
              "       group  converted\n",
              "0  A_control          0\n",
              "1  A_control          0\n",
              "2  A_control          0\n",
              "3  A_control          1\n",
              "4  A_control          0"
            ],
            "text/html": [
              "\n",
              "  <div id=\"df-707ec8e6-0b28-4e91-9a7e-3dc836ffab1a\" class=\"colab-df-container\">\n",
              "    <div>\n",
              "<style scoped>\n",
              "    .dataframe tbody tr th:only-of-type {\n",
              "        vertical-align: middle;\n",
              "    }\n",
              "\n",
              "    .dataframe tbody tr th {\n",
              "        vertical-align: top;\n",
              "    }\n",
              "\n",
              "    .dataframe thead th {\n",
              "        text-align: right;\n",
              "    }\n",
              "</style>\n",
              "<table border=\"1\" class=\"dataframe\">\n",
              "  <thead>\n",
              "    <tr style=\"text-align: right;\">\n",
              "      <th></th>\n",
              "      <th>group</th>\n",
              "      <th>converted</th>\n",
              "    </tr>\n",
              "  </thead>\n",
              "  <tbody>\n",
              "    <tr>\n",
              "      <th>0</th>\n",
              "      <td>A_control</td>\n",
              "      <td>0</td>\n",
              "    </tr>\n",
              "    <tr>\n",
              "      <th>1</th>\n",
              "      <td>A_control</td>\n",
              "      <td>0</td>\n",
              "    </tr>\n",
              "    <tr>\n",
              "      <th>2</th>\n",
              "      <td>A_control</td>\n",
              "      <td>0</td>\n",
              "    </tr>\n",
              "    <tr>\n",
              "      <th>3</th>\n",
              "      <td>A_control</td>\n",
              "      <td>1</td>\n",
              "    </tr>\n",
              "    <tr>\n",
              "      <th>4</th>\n",
              "      <td>A_control</td>\n",
              "      <td>0</td>\n",
              "    </tr>\n",
              "  </tbody>\n",
              "</table>\n",
              "</div>\n",
              "    <div class=\"colab-df-buttons\">\n",
              "\n",
              "  <div class=\"colab-df-container\">\n",
              "    <button class=\"colab-df-convert\" onclick=\"convertToInteractive('df-707ec8e6-0b28-4e91-9a7e-3dc836ffab1a')\"\n",
              "            title=\"Convert this dataframe to an interactive table.\"\n",
              "            style=\"display:none;\">\n",
              "\n",
              "  <svg xmlns=\"http://www.w3.org/2000/svg\" height=\"24px\" viewBox=\"0 -960 960 960\">\n",
              "    <path d=\"M120-120v-720h720v720H120Zm60-500h600v-160H180v160Zm220 220h160v-160H400v160Zm0 220h160v-160H400v160ZM180-400h160v-160H180v160Zm440 0h160v-160H620v160ZM180-180h160v-160H180v160Zm440 0h160v-160H620v160Z\"/>\n",
              "  </svg>\n",
              "    </button>\n",
              "\n",
              "  <style>\n",
              "    .colab-df-container {\n",
              "      display:flex;\n",
              "      gap: 12px;\n",
              "    }\n",
              "\n",
              "    .colab-df-convert {\n",
              "      background-color: #E8F0FE;\n",
              "      border: none;\n",
              "      border-radius: 50%;\n",
              "      cursor: pointer;\n",
              "      display: none;\n",
              "      fill: #1967D2;\n",
              "      height: 32px;\n",
              "      padding: 0 0 0 0;\n",
              "      width: 32px;\n",
              "    }\n",
              "\n",
              "    .colab-df-convert:hover {\n",
              "      background-color: #E2EBFA;\n",
              "      box-shadow: 0px 1px 2px rgba(60, 64, 67, 0.3), 0px 1px 3px 1px rgba(60, 64, 67, 0.15);\n",
              "      fill: #174EA6;\n",
              "    }\n",
              "\n",
              "    .colab-df-buttons div {\n",
              "      margin-bottom: 4px;\n",
              "    }\n",
              "\n",
              "    [theme=dark] .colab-df-convert {\n",
              "      background-color: #3B4455;\n",
              "      fill: #D2E3FC;\n",
              "    }\n",
              "\n",
              "    [theme=dark] .colab-df-convert:hover {\n",
              "      background-color: #434B5C;\n",
              "      box-shadow: 0px 1px 3px 1px rgba(0, 0, 0, 0.15);\n",
              "      filter: drop-shadow(0px 1px 2px rgba(0, 0, 0, 0.3));\n",
              "      fill: #FFFFFF;\n",
              "    }\n",
              "  </style>\n",
              "\n",
              "    <script>\n",
              "      const buttonEl =\n",
              "        document.querySelector('#df-707ec8e6-0b28-4e91-9a7e-3dc836ffab1a button.colab-df-convert');\n",
              "      buttonEl.style.display =\n",
              "        google.colab.kernel.accessAllowed ? 'block' : 'none';\n",
              "\n",
              "      async function convertToInteractive(key) {\n",
              "        const element = document.querySelector('#df-707ec8e6-0b28-4e91-9a7e-3dc836ffab1a');\n",
              "        const dataTable =\n",
              "          await google.colab.kernel.invokeFunction('convertToInteractive',\n",
              "                                                    [key], {});\n",
              "        if (!dataTable) return;\n",
              "\n",
              "        const docLinkHtml = 'Like what you see? Visit the ' +\n",
              "          '<a target=\"_blank\" href=https://colab.research.google.com/notebooks/data_table.ipynb>data table notebook</a>'\n",
              "          + ' to learn more about interactive tables.';\n",
              "        element.innerHTML = '';\n",
              "        dataTable['output_type'] = 'display_data';\n",
              "        await google.colab.output.renderOutput(dataTable, element);\n",
              "        const docLink = document.createElement('div');\n",
              "        docLink.innerHTML = docLinkHtml;\n",
              "        element.appendChild(docLink);\n",
              "      }\n",
              "    </script>\n",
              "  </div>\n",
              "\n",
              "\n",
              "    <div id=\"df-7cc1ff89-43dd-48db-8981-9b0dbaf54874\">\n",
              "      <button class=\"colab-df-quickchart\" onclick=\"quickchart('df-7cc1ff89-43dd-48db-8981-9b0dbaf54874')\"\n",
              "                title=\"Suggest charts\"\n",
              "                style=\"display:none;\">\n",
              "\n",
              "<svg xmlns=\"http://www.w3.org/2000/svg\" height=\"24px\"viewBox=\"0 0 24 24\"\n",
              "     width=\"24px\">\n",
              "    <g>\n",
              "        <path d=\"M19 3H5c-1.1 0-2 .9-2 2v14c0 1.1.9 2 2 2h14c1.1 0 2-.9 2-2V5c0-1.1-.9-2-2-2zM9 17H7v-7h2v7zm4 0h-2V7h2v10zm4 0h-2v-4h2v4z\"/>\n",
              "    </g>\n",
              "</svg>\n",
              "      </button>\n",
              "\n",
              "<style>\n",
              "  .colab-df-quickchart {\n",
              "      --bg-color: #E8F0FE;\n",
              "      --fill-color: #1967D2;\n",
              "      --hover-bg-color: #E2EBFA;\n",
              "      --hover-fill-color: #174EA6;\n",
              "      --disabled-fill-color: #AAA;\n",
              "      --disabled-bg-color: #DDD;\n",
              "  }\n",
              "\n",
              "  [theme=dark] .colab-df-quickchart {\n",
              "      --bg-color: #3B4455;\n",
              "      --fill-color: #D2E3FC;\n",
              "      --hover-bg-color: #434B5C;\n",
              "      --hover-fill-color: #FFFFFF;\n",
              "      --disabled-bg-color: #3B4455;\n",
              "      --disabled-fill-color: #666;\n",
              "  }\n",
              "\n",
              "  .colab-df-quickchart {\n",
              "    background-color: var(--bg-color);\n",
              "    border: none;\n",
              "    border-radius: 50%;\n",
              "    cursor: pointer;\n",
              "    display: none;\n",
              "    fill: var(--fill-color);\n",
              "    height: 32px;\n",
              "    padding: 0;\n",
              "    width: 32px;\n",
              "  }\n",
              "\n",
              "  .colab-df-quickchart:hover {\n",
              "    background-color: var(--hover-bg-color);\n",
              "    box-shadow: 0 1px 2px rgba(60, 64, 67, 0.3), 0 1px 3px 1px rgba(60, 64, 67, 0.15);\n",
              "    fill: var(--button-hover-fill-color);\n",
              "  }\n",
              "\n",
              "  .colab-df-quickchart-complete:disabled,\n",
              "  .colab-df-quickchart-complete:disabled:hover {\n",
              "    background-color: var(--disabled-bg-color);\n",
              "    fill: var(--disabled-fill-color);\n",
              "    box-shadow: none;\n",
              "  }\n",
              "\n",
              "  .colab-df-spinner {\n",
              "    border: 2px solid var(--fill-color);\n",
              "    border-color: transparent;\n",
              "    border-bottom-color: var(--fill-color);\n",
              "    animation:\n",
              "      spin 1s steps(1) infinite;\n",
              "  }\n",
              "\n",
              "  @keyframes spin {\n",
              "    0% {\n",
              "      border-color: transparent;\n",
              "      border-bottom-color: var(--fill-color);\n",
              "      border-left-color: var(--fill-color);\n",
              "    }\n",
              "    20% {\n",
              "      border-color: transparent;\n",
              "      border-left-color: var(--fill-color);\n",
              "      border-top-color: var(--fill-color);\n",
              "    }\n",
              "    30% {\n",
              "      border-color: transparent;\n",
              "      border-left-color: var(--fill-color);\n",
              "      border-top-color: var(--fill-color);\n",
              "      border-right-color: var(--fill-color);\n",
              "    }\n",
              "    40% {\n",
              "      border-color: transparent;\n",
              "      border-right-color: var(--fill-color);\n",
              "      border-top-color: var(--fill-color);\n",
              "    }\n",
              "    60% {\n",
              "      border-color: transparent;\n",
              "      border-right-color: var(--fill-color);\n",
              "    }\n",
              "    80% {\n",
              "      border-color: transparent;\n",
              "      border-right-color: var(--fill-color);\n",
              "      border-bottom-color: var(--fill-color);\n",
              "    }\n",
              "    90% {\n",
              "      border-color: transparent;\n",
              "      border-bottom-color: var(--fill-color);\n",
              "    }\n",
              "  }\n",
              "</style>\n",
              "\n",
              "      <script>\n",
              "        async function quickchart(key) {\n",
              "          const quickchartButtonEl =\n",
              "            document.querySelector('#' + key + ' button');\n",
              "          quickchartButtonEl.disabled = true;  // To prevent multiple clicks.\n",
              "          quickchartButtonEl.classList.add('colab-df-spinner');\n",
              "          try {\n",
              "            const charts = await google.colab.kernel.invokeFunction(\n",
              "                'suggestCharts', [key], {});\n",
              "          } catch (error) {\n",
              "            console.error('Error during call to suggestCharts:', error);\n",
              "          }\n",
              "          quickchartButtonEl.classList.remove('colab-df-spinner');\n",
              "          quickchartButtonEl.classList.add('colab-df-quickchart-complete');\n",
              "        }\n",
              "        (() => {\n",
              "          let quickchartButtonEl =\n",
              "            document.querySelector('#df-7cc1ff89-43dd-48db-8981-9b0dbaf54874 button');\n",
              "          quickchartButtonEl.style.display =\n",
              "            google.colab.kernel.accessAllowed ? 'block' : 'none';\n",
              "        })();\n",
              "      </script>\n",
              "    </div>\n",
              "\n",
              "    </div>\n",
              "  </div>\n"
            ],
            "application/vnd.google.colaboratory.intrinsic+json": {
              "type": "dataframe",
              "variable_name": "df_exp",
              "summary": "{\n  \"name\": \"df_exp\",\n  \"rows\": 8400,\n  \"fields\": [\n    {\n      \"column\": \"group\",\n      \"properties\": {\n        \"dtype\": \"category\",\n        \"num_unique_values\": 2,\n        \"samples\": [\n          \"B_treatment\",\n          \"A_control\"\n        ],\n        \"semantic_type\": \"\",\n        \"description\": \"\"\n      }\n    },\n    {\n      \"column\": \"converted\",\n      \"properties\": {\n        \"dtype\": \"number\",\n        \"std\": 0,\n        \"min\": 0,\n        \"max\": 1,\n        \"num_unique_values\": 2,\n        \"samples\": [\n          1,\n          0\n        ],\n        \"semantic_type\": \"\",\n        \"description\": \"\"\n      }\n    }\n  ]\n}"
            }
          },
          "metadata": {},
          "execution_count": 3
        }
      ]
    },
    {
      "cell_type": "markdown",
      "source": [
        "## 4) Aggregate summary statistics\n",
        "- Compute counts, conversion rates, absolute & relative lift, and per-arm SEs.\n"
      ],
      "metadata": {
        "id": "Iw-NviOrLaA9"
      }
    },
    {
      "cell_type": "code",
      "source": [
        "# counts and conversions\n",
        "n_A = len(df_A)\n",
        "n_B = len(df_B)\n",
        "x_A = df_A[\"converted\"].sum()\n",
        "x_B = df_B[\"converted\"].sum()\n",
        "\n",
        "# observed rates\n",
        "rate_A = x_A / n_A\n",
        "rate_B = x_B / n_B\n",
        "\n",
        "# lifts\n",
        "abs_lift = rate_B - rate_A\n",
        "rel_lift_pct = (abs_lift / rate_A) * 100 if rate_A > 0 else float(\"nan\")\n",
        "\n",
        "# per-arm standard errors (Wald)\n",
        "se_A = sqrt(rate_A * (1 - rate_A) / n_A)\n",
        "se_B = sqrt(rate_B * (1 - rate_B) / n_B)\n"
      ],
      "metadata": {
        "id": "I1xJ68d-Lbfl"
      },
      "execution_count": 4,
      "outputs": []
    },
    {
      "cell_type": "markdown",
      "source": [
        "## 5) Hypothesis test — two-proportion z-test (two-sided)\n",
        "H0: p_A == p_B\n",
        "HA: p_A != p_B\n"
      ],
      "metadata": {
        "id": "qwqsz2yALdXu"
      }
    },
    {
      "cell_type": "code",
      "source": [
        "# pooled proportion and pooled SE\n",
        "p_pool = (x_A + x_B) / (n_A + n_B)\n",
        "se_pooled = sqrt(p_pool * (1 - p_pool) * (1.0 / n_A + 1.0 / n_B))\n",
        "\n",
        "# z-statistic and two-sided p-value\n",
        "z_value = (rate_B - rate_A) / se_pooled\n",
        "p_two_sided = 2 * norm.sf(abs(z_value))\n",
        "\n",
        "# 95% Wald CIs for each arm\n",
        "ci_A = (rate_A - z_crit * se_A, rate_A + z_crit * se_A)\n",
        "ci_B = (rate_B - z_crit * se_B, rate_B + z_crit * se_B)\n"
      ],
      "metadata": {
        "id": "pXMP533ZLd2G"
      },
      "execution_count": 5,
      "outputs": []
    },
    {
      "cell_type": "markdown",
      "source": [
        "## 6) Print results (neat)\n"
      ],
      "metadata": {
        "id": "BrcwwbusLhPt"
      }
    },
    {
      "cell_type": "code",
      "source": [
        "print(\"A/B Test\")\n",
        "print(\"---------------------\")\n",
        "print(f\"Seed: {RNG}\")\n",
        "print(f\"A (control):    n={n_A:,}, conv={x_A:,}, rate={rate_A:.4f}\")\n",
        "print(f\"B (treatment):  n={n_B:,}, conv={x_B:,}, rate={rate_B:.4f}\")\n",
        "print()\n",
        "print(f\"Absolute lift (B - A) : {abs_lift:.4f} ({abs_lift*100:.2f} percentage points)\")\n",
        "print(f\"Relative lift vs A     : {rel_lift_pct:.2f}%\")\n",
        "print()\n",
        "print(\"Per-arm standard errors:\")\n",
        "print(f\"  SE_A = {se_A:.6f}\")\n",
        "print(f\"  SE_B = {se_B:.6f}\")\n",
        "print()\n",
        "print(\"Two-proportion z-test (two-sided):\")\n",
        "print(f\"  z = {z_value:.4f}\")\n",
        "print(f\"  p = {p_two_sided:.6f}\")\n",
        "print()\n",
        "print(\"95% CIs (Wald):\")\n",
        "print(f\"  A: [{ci_A[0]:.4f}, {ci_A[1]:.4f}]\")\n",
        "print(f\"  B: [{ci_B[0]:.4f}, {ci_B[1]:.4f}]\")\n",
        "print()\n",
        "if p_two_sided < alpha:\n",
        "    print(f\"Conclusion: Reject H0 at alpha={alpha}. (p={p_two_sided:.4f})\")\n",
        "else:\n",
        "    print(f\"Conclusion: Fail to reject H0 at alpha={alpha}. (p={p_two_sided:.4f})\")\n"
      ],
      "metadata": {
        "colab": {
          "base_uri": "https://localhost:8080/"
        },
        "id": "Gf64Gi7uLh7l",
        "outputId": "0748c874-64ed-4341-aebe-795c2f073ce7"
      },
      "execution_count": 6,
      "outputs": [
        {
          "output_type": "stream",
          "name": "stdout",
          "text": [
            "A/B Test\n",
            "---------------------\n",
            "Seed: 20251014\n",
            "A (control):    n=4,300, conv=565, rate=0.1314\n",
            "B (treatment):  n=4,100, conv=651, rate=0.1588\n",
            "\n",
            "Absolute lift (B - A) : 0.0274 (2.74 percentage points)\n",
            "Relative lift vs A     : 20.84%\n",
            "\n",
            "Per-arm standard errors:\n",
            "  SE_A = 0.005152\n",
            "  SE_B = 0.005708\n",
            "\n",
            "Two-proportion z-test (two-sided):\n",
            "  z = 3.5656\n",
            "  p = 0.000363\n",
            "\n",
            "95% CIs (Wald):\n",
            "  A: [0.1213, 0.1415]\n",
            "  B: [0.1476, 0.1700]\n",
            "\n",
            "Conclusion: Reject H0 at alpha=0.05. (p=0.0004)\n"
          ]
        }
      ]
    },
    {
      "cell_type": "markdown",
      "source": [
        "## 7) Quick visualization\n",
        "- Bar chart of conversion rates with 95% error bars.\n"
      ],
      "metadata": {
        "id": "5Ss3aGqRLlyn"
      }
    },
    {
      "cell_type": "code",
      "source": [
        "fig, ax = plt.subplots(figsize=(6,4))\n",
        "groups = [\"A_control\", \"B_treatment\"]\n",
        "rates = [rate_A, rate_B]\n",
        "error_bars = [z_crit * se_A, z_crit * se_B]\n",
        "\n",
        "ax.bar(groups, rates, yerr=error_bars, capsize=7)\n",
        "ax.set_ylim(0, max(rates) + 0.04)\n",
        "ax.set_ylabel(\"Conversion rate\")\n",
        "ax.set_title(\"Conversion Rate by Arm — Variant 1\")\n",
        "for i, r in enumerate(rates):\n",
        "    ax.text(i, r + 0.0025, f\"{r:.3%}\", ha=\"center\")\n",
        "plt.tight_layout()\n",
        "plt.show()\n",
        "fig, ax = plt.subplots(figsize=(6,4))\n",
        "groups = [\"A_control\", \"B_treatment\"]\n",
        "rates = [rate_A, rate_B]\n",
        "error_bars = [z_crit * se_A, z_crit * se_B]\n",
        "\n",
        "ax.bar(groups, rates, yerr=error_bars, capsize=7)\n",
        "ax.set_ylim(0, max(rates) + 0.04)\n",
        "ax.set_ylabel(\"Conversion rate\")\n",
        "ax.set_title(\"Conversion Rate by Arm — Variant 1\")\n",
        "for i, r in enumerate(rates):\n",
        "    ax.text(i, r + 0.0025, f\"{r:.3%}\", ha=\"center\")\n",
        "plt.tight_layout()\n",
        "plt.show()\n"
      ],
      "metadata": {
        "colab": {
          "base_uri": "https://localhost:8080/",
          "height": 797
        },
        "id": "GW_zYMWWLmN1",
        "outputId": "06d0a3e5-0274-46ab-c08e-c637812c2e25"
      },
      "execution_count": 7,
      "outputs": [
        {
          "output_type": "display_data",
          "data": {
            "text/plain": [
              "<Figure size 600x400 with 1 Axes>"
            ],
            "image/png": "[encoded data removed]"
          },
          "metadata": {}
        },
        {
          "output_type": "display_data",
          "data": {
            "text/plain": [
              "<Figure size 600x400 with 1 Axes>"
            ],
            "image/png": "[encoded data removed]"
          },
          "metadata": {}
        }
      ]
    }
  ]
}